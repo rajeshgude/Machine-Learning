{
 "cells": [
  {
   "cell_type": "markdown",
   "id": "0b27e030",
   "metadata": {},
   "source": [
    "\n",
    "Returns the sentiment of a sentence ,whether positive or negative.Data used here is collected from reviews on amazon products."
   ]
  },
  {
   "cell_type": "markdown",
   "id": "2ccdfe95",
   "metadata": {},
   "source": [
    "# IMPORTING NECESSARY LIBRARIES"
   ]
  },
  {
   "cell_type": "code",
   "execution_count": 1,
   "id": "4c56690b",
   "metadata": {},
   "outputs": [],
   "source": [
    "import numpy as np\n",
    "import matplotlib.pyplot as plt\n",
    "import seaborn as sns\n",
    "import pandas as pd\n",
    "import json\n",
    "import random"
   ]
  },
  {
   "cell_type": "code",
   "execution_count": 2,
   "id": "24763309",
   "metadata": {},
   "outputs": [],
   "source": [
    "class Sentiment:\n",
    "  negative=\"NEGATIVE\"\n",
    "  positive=\"POSITIVE\"\n",
    "class Review:\n",
    "  def __init__(self,text,score):\n",
    "    self.text=text\n",
    "    self.score=score\n",
    "    self.sentiment=self.get_sentiment()\n",
    "  def get_sentiment(self):\n",
    "    if self.score<3:\n",
    "      return Sentiment.negative\n",
    "    else:#when score is 3 or 4 or 5\n",
    "      return Sentiment.positive\n",
    "class ReviewContainer:\n",
    "  def __init__(self,reviews):\n",
    "    self.reviews=reviews\n",
    "  def evenly_distibute(self):\n",
    "    negative=list(filter(lambda x:x.sentiment==Sentiment.negative,self.reviews))\n",
    "    positive=list(filter(lambda x:x.sentiment==Sentiment.positive,self.reviews))\n",
    "    #as data contains more positive data sets,we will reduce them into number of negative one's for better accuracy\n",
    "    positive_shrunk=positive[:len(negative)]\n",
    "    self.reviews=negative+positive_shrunk\n",
    "    random.shuffle(self.reviews)"
   ]
  },
  {
   "cell_type": "markdown",
   "id": "b18c6ed3",
   "metadata": {},
   "source": [
    "# LOADING AND UNDERSTANDING DATA"
   ]
  },
  {
   "cell_type": "code",
   "execution_count": 3,
   "id": "85d6fc45",
   "metadata": {},
   "outputs": [],
   "source": [
    "reviews=[]\n",
    "with open(\"Books_small_10000.json\") as f:\n",
    "  for line in f:\n",
    "    review_json=json.loads(line)\n",
    "    review=Review(review_json['reviewText'], review_json['overall'])\n",
    "    reviews.append(review)"
   ]
  },
  {
   "cell_type": "code",
   "execution_count": 4,
   "id": "d7f239b5",
   "metadata": {},
   "outputs": [
    {
     "data": {
      "text/plain": [
       "'POSITIVE'"
      ]
     },
     "execution_count": 4,
     "metadata": {},
     "output_type": "execute_result"
    }
   ],
   "source": [
    "reviews[0].text\n",
    "reviews[0].score\n",
    "reviews[0].sentiment"
   ]
  },
  {
   "cell_type": "code",
   "execution_count": 5,
   "id": "f8cc01a8",
   "metadata": {},
   "outputs": [],
   "source": [
    "from sklearn.model_selection import train_test_split\n",
    "training,testing=train_test_split(reviews,test_size=0.33)"
   ]
  },
  {
   "cell_type": "code",
   "execution_count": 6,
   "id": "22d1b80e",
   "metadata": {},
   "outputs": [
    {
     "data": {
      "text/plain": [
       "6700"
      ]
     },
     "execution_count": 6,
     "metadata": {},
     "output_type": "execute_result"
    }
   ],
   "source": [
    "len(training)"
   ]
  },
  {
   "cell_type": "code",
   "execution_count": 7,
   "id": "2e7970ef",
   "metadata": {},
   "outputs": [],
   "source": [
    "#evenly distributing data for better accuracies\n",
    "traincontainer=ReviewContainer(training)\n",
    "traincontainer.evenly_distibute()\n",
    "testcontainer=ReviewContainer(testing)\n",
    "testcontainer.evenly_distibute()"
   ]
  },
  {
   "cell_type": "code",
   "execution_count": 8,
   "id": "61804b63",
   "metadata": {},
   "outputs": [],
   "source": [
    "#splitting data\n",
    "x_train=[x.text for x in traincontainer.reviews]\n",
    "x_test=[x.text for x in testcontainer.reviews]\n",
    "y_train=[y.sentiment for y in traincontainer.reviews]\n",
    "y_test=[y.sentiment for y in testcontainer.reviews]"
   ]
  },
  {
   "cell_type": "code",
   "execution_count": 9,
   "id": "0e250d5a",
   "metadata": {},
   "outputs": [
    {
     "data": {
      "text/plain": [
       "429"
      ]
     },
     "execution_count": 9,
     "metadata": {},
     "output_type": "execute_result"
    }
   ],
   "source": [
    "y_train.count(Sentiment.positive)\n",
    "y_train.count(Sentiment.negative)\n"
   ]
  },
  {
   "cell_type": "code",
   "execution_count": 10,
   "id": "438f59ea",
   "metadata": {},
   "outputs": [],
   "source": [
    "#here we can also use count vectorizer but ,tfidf vectorizer best suits the problem\n",
    "from sklearn.feature_extraction.text import TfidfVectorizer\n",
    "vectorizer=TfidfVectorizer()\n",
    "x_train_vector=vectorizer.fit_transform(x_train)\n",
    "x_test_vector=vectorizer.transform(x_test)"
   ]
  },
  {
   "cell_type": "markdown",
   "id": "70aabcf6",
   "metadata": {},
   "source": [
    "# SUPPORT VECTOR MACHINES"
   ]
  },
  {
   "cell_type": "code",
   "execution_count": 11,
   "id": "3494f37e",
   "metadata": {},
   "outputs": [
    {
     "name": "stdout",
     "output_type": "stream",
     "text": [
      "0.8348837209302326\n",
      "[0.83372365 0.83602771]\n"
     ]
    }
   ],
   "source": [
    "from sklearn.svm import SVC\n",
    "clf_svm=SVC()\n",
    "clf_svm.fit(x_train_vector,y_train)\n",
    "y_pred=clf_svm.predict(x_test_vector)\n",
    "\n",
    "from sklearn.metrics import accuracy_score,f1_score\n",
    "clf_svm_score=accuracy_score(y_test,y_pred)\n",
    "print(accuracy_score(y_test,y_pred))\n",
    "print(f1_score(y_test,y_pred,average=None,labels=[Sentiment.positive,Sentiment.negative]))"
   ]
  },
  {
   "cell_type": "markdown",
   "id": "b291ab39",
   "metadata": {},
   "source": [
    "# DECISION TREES"
   ]
  },
  {
   "cell_type": "code",
   "execution_count": 12,
   "id": "334941e5",
   "metadata": {},
   "outputs": [
    {
     "name": "stdout",
     "output_type": "stream",
     "text": [
      "0.6813953488372093\n",
      "[0.67915691 0.68360277]\n"
     ]
    }
   ],
   "source": [
    "from sklearn.tree import DecisionTreeClassifier\n",
    "clf_dec=DecisionTreeClassifier()\n",
    "clf_dec.fit(x_train_vector,y_train)\n",
    "y_pred=clf_dec.predict(x_test_vector)\n",
    "\n",
    "from sklearn.metrics import accuracy_score,f1_score\n",
    "clf_dec_score=accuracy_score(y_test,y_pred)\n",
    "print(accuracy_score(y_test,y_pred))\n",
    "print(f1_score(y_test,y_pred,average=None,labels=[Sentiment.positive,Sentiment.negative]))"
   ]
  },
  {
   "cell_type": "markdown",
   "id": "8ca3ef30",
   "metadata": {},
   "source": [
    "# LOGISTIC REGRESSION"
   ]
  },
  {
   "cell_type": "code",
   "execution_count": 13,
   "id": "35dcb2d4",
   "metadata": {},
   "outputs": [
    {
     "name": "stdout",
     "output_type": "stream",
     "text": [
      "0.827906976744186\n",
      "[0.8254717  0.83027523]\n"
     ]
    }
   ],
   "source": [
    "from sklearn.linear_model import LogisticRegression\n",
    "clf_log=LogisticRegression()\n",
    "clf_log.fit(x_train_vector,y_train)\n",
    "y_pred=clf_log.predict(x_test_vector)\n",
    "\n",
    "from sklearn.metrics import accuracy_score,f1_score\n",
    "clf_log_score=accuracy_score(y_test,y_pred)\n",
    "print(accuracy_score(y_test,y_pred))\n",
    "print(f1_score(y_test,y_pred,average=None,labels=[Sentiment.positive,Sentiment.negative]))"
   ]
  },
  {
   "cell_type": "markdown",
   "id": "e073a8b8",
   "metadata": {},
   "source": [
    "# from the above calculations,we can clearly say that logistic regression best suits the problem"
   ]
  },
  {
   "cell_type": "code",
   "execution_count": 14,
   "id": "56adc6dd",
   "metadata": {},
   "outputs": [
    {
     "data": {
      "text/plain": [
       "array(['NEGATIVE', 'POSITIVE', 'POSITIVE', 'NEGATIVE'], dtype='<U8')"
      ]
     },
     "execution_count": 14,
     "metadata": {},
     "output_type": "execute_result"
    }
   ],
   "source": [
    "#predicting few random samples whether positive or negative\n",
    "clf_log.predict(vectorizer.transform([\"very bad\",\"i loved it\",\"awesome\",\"worst one\"]))"
   ]
  },
  {
   "cell_type": "code",
   "execution_count": null,
   "id": "1f945370",
   "metadata": {},
   "outputs": [],
   "source": []
  }
 ],
 "metadata": {
  "kernelspec": {
   "display_name": "Python 3 (ipykernel)",
   "language": "python",
   "name": "python3"
  },
  "language_info": {
   "codemirror_mode": {
    "name": "ipython",
    "version": 3
   },
   "file_extension": ".py",
   "mimetype": "text/x-python",
   "name": "python",
   "nbconvert_exporter": "python",
   "pygments_lexer": "ipython3",
   "version": "3.11.5"
  }
 },
 "nbformat": 4,
 "nbformat_minor": 5
}
